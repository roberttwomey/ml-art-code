{
  "cells": [
    {
      "cell_type": "markdown",
      "metadata": {
        "id": "view-in-github",
        "colab_type": "text"
      },
      "source": [
        "<a href=\"https://colab.research.google.com/github/roberttwomey/ml-art-code/blob/master/clip-sg3/CLIP-StyleGAN3.ipynb\" target=\"_parent\"><img src=\"https://colab.research.google.com/assets/colab-badge.svg\" alt=\"Open In Colab\"/></a>"
      ]
    },
    {
      "cell_type": "markdown",
      "source": [
        "EMAR349 ML for the Arts - Twomey - [ml.roberttwomey.com](https://ml.roberttwomey.com)"
      ],
      "metadata": {
        "id": "nvkGH3zOUNvq"
      }
    },
    {
      "cell_type": "markdown",
      "metadata": {
        "id": "bJOj_BWi_JwR"
      },
      "source": [
        "# CLIP-guided StyleGAN3\n",
        "\n",
        "<img src=\"https://bafybeieydgl33cb3i57iggvsae7q6dcenrnbrzmikpi3o7s44jeua5khae.ipfs.nftstorage.link/\" width=\"300\" height=\"300\">\n",
        "\n",
        "*Your eyes emit celestial light, from the stars you are from and are made of*\n",
        "\n",
        "If you’re going for faces, this is the one. Human or non-human, real or painted, choose a dataset and see what happens. Upload an image to take it to the next level. Generates images (mostly faces) using nvidia [StyleGan3](https://github.com/NVlabs/stylegan3) with [CLIP](https://openai.com/research/clip) guidance.\n",
        "\n",
        "Written by [nshepperd](https://twitter.com/nshepperd1). Thanks to [Katherine Crowson](https://twitter.com/RiversHaveWings) for coming up with many improved sampling tricks, as well as some of the code. Adapted for ML for the Arts.\n",
        "\n",
        "---\n",
        "[UPD 13.12.2021] Fix painted faces model download\n",
        "\n",
        "[UPD 04.12.2021] Add parameter to freeze camera movement\n",
        "\n",
        "[UPD 21.11.2021] Exposed learning rate parameter\n",
        "\n",
        "[UPD 20.11.2021] Added Landscapes 256 model\n",
        "\n",
        "[UPD 10.11.2021] Added WikiArt model\n",
        "\n",
        "[UPD 24.12.2021] Added experimental image prompts\n"
      ]
    },
    {
      "cell_type": "markdown",
      "source": [
        "## Prompting Parameters\n",
        "\n",
        "Change the **text_prompt** below, as well as the **model**. This will iteratively adapt the starting image (seed+model) to align with the text prompt."
      ],
      "metadata": {
        "id": "MgXLOcGaV5-o"
      }
    },
    {
      "cell_type": "code",
      "execution_count": null,
      "metadata": {
        "id": "SW1JQY3bIpCf"
      },
      "outputs": [],
      "source": [
        "# Text to modify the face\n",
        "text_prompt = 'Your eyes emit celestial light, from the stars you are from and are made of'  #@param {type: \"string\"}\n",
        "text_prompt_weight = 1. #@param {type: \"number\"}\n",
        "\n",
        "# Additional image that will be treated like a text prompt. If it's a zip, we take an average of all the images / experimental\n",
        "image_prompt_file = \"\" #@param {type: \"string\"}\n",
        "images_prompt_weight =  0 #@param {type: \"number\"}\n",
        "\n",
        "# Fix camera so it's not moving around\n",
        "fix_camera = True #@param {type: \"boolean\"}\n",
        "\n",
        "# Speed at which to try approximating the text. Too fast seems to give strange results. Maximum is 100.\n",
        "speed = 20  #@param {type: \"number\"}\n",
        "\n",
        "# How many steps to run. Each step generates one frame.\n",
        "steps = 150 #@param {type: \"number\"}\n",
        "\n",
        "# Change the seed to generate variations of the same prompt\n",
        "seed = 21 #@param {type: \"number\"}\n",
        "\n",
        "# Model type to use.\n",
        "model = 'Animal Faces'  #@param ['Painted Faces', 'Animal Faces', 'Flickr Faces', 'Wiki Art', 'Landscapes 256']\n",
        "\n",
        "# We haven't completely understood which parameters influence the generation of this model. Changing the learning rate could help (between 0 and 100)\n",
        "learning_rate = 10 #@param {type: \"number\"}\n",
        "\n",
        "model_map = {\n",
        "    'Painted Faces': 'https://ipfs.pollinations.ai/ipfs/QmWiZxHpNJdyFujgB6bYwsDg3gT2mnAvpZ9MhZniPcLXGU/stylegan3-r-metfacesu-1024x1024.pkl',\n",
        "    'Animal Faces': 'https://api.ngc.nvidia.com/v2/models/nvidia/research/stylegan3/versions/1/files/stylegan3-r-afhqv2-512x512.pkl',\n",
        "    'Flickr Faces': 'https://api.ngc.nvidia.com/v2/models/nvidia/research/stylegan3/versions/1/files/stylegan3-r-ffhqu-1024x1024.pkl',\n",
        "    'Wiki Art': 'https://ipfs.pollinations.ai/ipfs/QmZkrYwEUnykVQJfJw3opTj1HfdNUCm87amsR3LHp1QnuV/wikiart-1024-stylegan3-t-17.2Mimg.pkl',\n",
        "    'Landscapes 256': 'https://ipfs.pollinations.ai/ipfs/QmZkrYwEUnykVQJfJw3opTj1HfdNUCm87amsR3LHp1QnuV/lhq-256-stylegan3-t-25Mimg.pkl'\n",
        "}\n",
        "\n",
        "output_path = \"/content/output\"\n",
        "\n",
        "#@markdown ---\n",
        "\n",
        "\n",
        "social = False"
      ]
    },
    {
      "cell_type": "code",
      "execution_count": null,
      "metadata": {
        "id": "X_eu7NV4Ib_1"
      },
      "outputs": [],
      "source": [
        "\n",
        "model_url = model_map[model]\n",
        "smoothing = (100.0-speed)/100.0"
      ]
    },
    {
      "cell_type": "markdown",
      "source": [
        "## Setup"
      ],
      "metadata": {
        "id": "dG-zvZ2yWvJs"
      }
    },
    {
      "cell_type": "code",
      "execution_count": null,
      "metadata": {
        "id": "rg_x6IdHv_2G"
      },
      "outputs": [],
      "source": [
        "# Check GPU and CUDA\n",
        "!nvidia-smi\n",
        "!nvcc --version"
      ]
    },
    {
      "cell_type": "code",
      "execution_count": null,
      "metadata": {
        "id": "5K38uyFrv5wo"
      },
      "outputs": [],
      "source": [
        "#!pip install --upgrade torch==1.9.1+cu111 torchvision==0.10.1+cu111 -f https://download.pytorch.org/whl/torch_stable.html\n",
        "!pip install --upgrade torch==1.11.0+cu113 torchvision==0.12.0+cu113 -f https://download.pytorch.org/whl/torch_stable.html\n",
        "!pip install einops ninja\n",
        "#!pip install --upgrade https://download.pytorch.org/whl/nightly/cu111/torch-1.11.0.dev20211012%2Bcu111-cp37-cp37m-linux_x86_64.whl https://download.pytorch.org/whl/nightly/cu111/torchvision-0.12.0.dev20211012%2Bcu111-cp37-cp37m-linux_x86_64.whl\n",
        "!git clone https://github.com/NVlabs/stylegan3\n",
        "!git clone https://github.com/openai/CLIP\n",
        "!pip install -e ./CLIP\n",
        "!pip install einops ninja"
      ]
    },
    {
      "cell_type": "code",
      "execution_count": null,
      "metadata": {
        "id": "FcXaXHqlwKft"
      },
      "outputs": [],
      "source": [
        "import sys\n",
        "sys.path.append('./CLIP')\n",
        "sys.path.append('./stylegan3')\n",
        "\n",
        "import tensorflow\n",
        "import io\n",
        "import os, time\n",
        "import pickle\n",
        "import shutil\n",
        "import numpy as np\n",
        "from PIL import Image\n",
        "import torch\n",
        "import torch.nn.functional as F\n",
        "import requests\n",
        "import torchvision.transforms as transforms\n",
        "import torchvision.transforms.functional as TF\n",
        "import clip\n",
        "from tqdm.notebook import tqdm\n",
        "from torchvision.transforms import Compose, Resize, ToTensor, Normalize\n",
        "from IPython.display import display\n",
        "from einops import rearrange"
      ]
    },
    {
      "cell_type": "code",
      "execution_count": null,
      "metadata": {
        "id": "2IJd9-jix7PJ"
      },
      "outputs": [],
      "source": [
        "device = torch.device('cuda:0')\n",
        "print('Using device:', device, file=sys.stderr)\n",
        "torch.manual_seed(seed)"
      ]
    },
    {
      "cell_type": "code",
      "execution_count": null,
      "metadata": {
        "id": "1GOWJ_z-wgde"
      },
      "outputs": [],
      "source": [
        "# Define necessary functions\n",
        "\n",
        "def fetch(url_or_path):\n",
        "    if str(url_or_path).startswith('http://') or str(url_or_path).startswith('https://'):\n",
        "        r = requests.get(url_or_path)\n",
        "        r.raise_for_status()\n",
        "        fd = io.BytesIO()\n",
        "        fd.write(r.content)\n",
        "        fd.seek(0)\n",
        "        return fd\n",
        "    return open(url_or_path, 'rb')\n",
        "\n",
        "def fetch_model(url_or_path):\n",
        "    basename = os.path.basename(url_or_path)\n",
        "    if os.path.exists(basename):\n",
        "        return basename\n",
        "    else:\n",
        "        !wget -N '{url_or_path}'\n",
        "        return basename\n",
        "\n",
        "def norm1(prompt):\n",
        "    \"Normalize to the unit sphere.\"\n",
        "    return prompt / prompt.square().sum(dim=-1,keepdim=True).sqrt()\n",
        "\n",
        "def spherical_dist_loss(x, y):\n",
        "    x = F.normalize(x, dim=-1)\n",
        "    y = F.normalize(y, dim=-1)\n",
        "    return (x - y).norm(dim=-1).div(2).arcsin().pow(2).mul(2)\n",
        "\n",
        "class MakeCutouts(torch.nn.Module):\n",
        "    def __init__(self, cut_size, cutn, cut_pow=1.):\n",
        "        super().__init__()\n",
        "        self.cut_size = cut_size\n",
        "        self.cutn = cutn\n",
        "        self.cut_pow = cut_pow\n",
        "\n",
        "    def forward(self, input):\n",
        "        sideY, sideX = input.shape[2:4]\n",
        "        max_size = min(sideX, sideY)\n",
        "        min_size = min(sideX, sideY, self.cut_size)\n",
        "        cutouts = []\n",
        "        for _ in range(self.cutn):\n",
        "            size = int(torch.rand([])**self.cut_pow * (max_size - min_size) + min_size)\n",
        "            offsetx = torch.randint(0, sideX - size + 1, ())\n",
        "            offsety = torch.randint(0, sideY - size + 1, ())\n",
        "            cutout = input[:, :, offsety:offsety + size, offsetx:offsetx + size]\n",
        "            cutouts.append(F.adaptive_avg_pool2d(cutout, self.cut_size))\n",
        "        return torch.cat(cutouts)\n",
        "\n",
        "make_cutouts = MakeCutouts(224, 32, 0.5)\n",
        "\n",
        "def embed_image(image):\n",
        "  n = image.shape[0]\n",
        "  cutouts = make_cutouts(image)\n",
        "  embeds = clip_model.embed_cutout(cutouts)\n",
        "  embeds = rearrange(embeds, '(cc n) c -> cc n c', n=n)\n",
        "  return embeds\n",
        "\n",
        "\n",
        "def embed_img_file(path):\n",
        "  image = Image.open(path).convert('RGB')\n",
        "  return embed_image(TF.to_tensor(image).to(device).unsqueeze(0)).mean(0).squeeze(0)\n",
        "\n",
        "def embed_url(url):\n",
        "  image = Image.open(fetch(url)).convert('RGB')\n",
        "  return embed_image(TF.to_tensor(image).to(device).unsqueeze(0)).mean(0).squeeze(0)"
      ]
    },
    {
      "cell_type": "code",
      "execution_count": null,
      "metadata": {
        "id": "Mf-qYTcEzugv"
      },
      "outputs": [],
      "source": [
        "class CLIP(object):\n",
        "  def __init__(self):\n",
        "    clip_model = \"ViT-B/32\"\n",
        "    self.model, _ = clip.load(clip_model)\n",
        "    self.model = self.model.requires_grad_(False)\n",
        "    self.normalize = transforms.Normalize(mean=[0.48145466, 0.4578275, 0.40821073],\n",
        "                                          std=[0.26862954, 0.26130258, 0.27577711])\n",
        "\n",
        "  @torch.no_grad()\n",
        "  def embed_text(self, prompt):\n",
        "      \"Normalized clip text embedding.\"\n",
        "      return norm1(self.model.encode_text(clip.tokenize(prompt).to(device)).float())\n",
        "\n",
        "  def embed_cutout(self, image):\n",
        "      \"Normalized clip image embedding.\"\n",
        "      return norm1(self.model.encode_image(self.normalize(image)))\n",
        "\n",
        "clip_model = CLIP()"
      ]
    },
    {
      "cell_type": "code",
      "execution_count": null,
      "metadata": {
        "id": "rLxwdWMXwPXN"
      },
      "outputs": [],
      "source": [
        "# Load stylegan model\n",
        "\n",
        "network_url = model_url\n",
        "\n",
        "with open(fetch_model(network_url), 'rb') as fp:\n",
        "  G = pickle.load(fp)['G_ema'].to(device)\n",
        "\n",
        "# Fix the coordinate grid to w_avg\n",
        "if fix_camera:\n",
        "  shift = G.synthesis.input.affine(G.mapping.w_avg.unsqueeze(0))\n",
        "  G.synthesis.input.affine.bias.data.add_(shift.squeeze(0))\n",
        "  G.synthesis.input.affine.weight.data.zero_()\n",
        "\n",
        "# # Arbitrary coordinate grid (dubious idea)\n",
        "# with torch.no_grad():\n",
        "#   grid = G.synthesis.input(G.mapping.w_avg.unsqueeze(0))\n",
        "#   def const(x):\n",
        "#     def f(w):\n",
        "#       n = w.shape[0]\n",
        "#       return x.broadcast_to([n, *x.shape[1:]])\n",
        "#     return f\n",
        "#   G.synthesis.input.forward = const(grid)\n",
        "# grid.requires_grad_()\n",
        "\n",
        "zs = torch.randn([10000, G.mapping.z_dim], device=device)\n",
        "w_stds = G.mapping(zs, None).std(0)"
      ]
    },
    {
      "cell_type": "code",
      "execution_count": null,
      "metadata": {
        "id": "V_rq-N2m0Tlb"
      },
      "outputs": [],
      "source": [
        "# Run Settings\n",
        "\n",
        "target = clip_model.embed_text(text_prompt)\n",
        "#target = embed_url(\"https://4.bp.blogspot.com/-uw859dFGsLc/Va5gt-bU9bI/AAAAAAAA4gM/dcaWzX0ZxdI/s1600/Lubjana+dragon+1.jpg\")\n",
        "# target = embed_url(\"https://irc.zlkj.in/uploads/e399d2fee2c6edd9/20210827165231_0_nexus%20of%20abandoned%20places.%20trending%20on%20ArtStation.png\")\n"
      ]
    },
    {
      "cell_type": "code",
      "execution_count": null,
      "metadata": {
        "id": "bz5-Cykvz1y9"
      },
      "outputs": [],
      "source": [
        "from glob import glob\n",
        "if image_prompt_file.endswith(\".zip\"):\n",
        "  !rm -rf img_prompts/\n",
        "  !unzip {image_prompt_file} -d img_prompts\n",
        "  img_extensions = [\"png\", \"jpg\", \"jpeg\"]\n",
        "  image_prompts = [i for i in glob(\"img_prompts/*\") if i.split(\".\")[-1] in img_extensions]\n",
        "elif image_prompt_file != \"\":\n",
        "  image_prompts = [image_prompt_file]\n",
        "else:\n",
        "  image_prompts = []\n",
        "\n",
        "prompts = [(text_prompt_weight, target)]\n",
        "for img_file in image_prompts:\n",
        "  target = embed_img_file(img_file)\n",
        "  prompts += [(images_prompt_weight/len(image_prompts), target)]"
      ]
    },
    {
      "cell_type": "markdown",
      "source": [
        "## Run generation Loop"
      ],
      "metadata": {
        "id": "zH6oWqASW8GU"
      }
    },
    {
      "cell_type": "code",
      "execution_count": null,
      "metadata": {
        "id": "QXoRP4SHzJ6i"
      },
      "outputs": [],
      "source": [
        "# Actually do the run\n",
        "from IPython.display import display\n",
        "\n",
        "\n",
        "tf = Compose([\n",
        "  Resize(224),\n",
        "  lambda x: torch.clamp((x+1)/2,min=0,max=1),\n",
        "  ])\n",
        "\n",
        "def run():\n",
        "  torch.manual_seed(seed)\n",
        "  timestring = time.strftime('%Y%m%d%H%M%S')\n",
        "\n",
        "  # Init\n",
        "  # Method 1: sample 32 inits and choose the one closest to prompt\n",
        "\n",
        "  with torch.no_grad():\n",
        "    qs = []\n",
        "    losses = []\n",
        "    for _ in range(8):\n",
        "      q = (G.mapping(torch.randn([4,G.mapping.z_dim], device=device), None, truncation_psi=0.7) - G.mapping.w_avg) / w_stds\n",
        "      images = G.synthesis(q * w_stds + G.mapping.w_avg)\n",
        "      embeds = embed_image(images.add(1).div(2))\n",
        "      loss = 0\n",
        "      for (w, t) in prompts:\n",
        "        loss += w * spherical_dist_loss(embeds, t).mean(0)\n",
        "      i = torch.argmin(loss)\n",
        "      qs.append(q[i])\n",
        "      losses.append(loss[i])\n",
        "    qs = torch.stack(qs)\n",
        "    losses = torch.stack(losses)\n",
        "    print(losses)\n",
        "    print(losses.shape, qs.shape)\n",
        "    i = torch.argmin(losses)\n",
        "    q = qs[i].unsqueeze(0).requires_grad_()\n",
        "\n",
        "  # Method 2: Random init depending only on the seed.\n",
        "\n",
        "  # q = (G.mapping(torch.randn([1,G.mapping.z_dim], device=device), None, truncation_psi=0.7) - G.mapping.w_avg) / w_stds\n",
        "  # q.requires_grad_()\n",
        "\n",
        "  # Sampling loop\n",
        "  q_ema = q\n",
        "  opt = torch.optim.AdamW([q], lr=learning_rate/250.0, betas=(0.0,0.999))\n",
        "  loop = tqdm(range(steps))\n",
        "  for i in loop:\n",
        "    opt.zero_grad()\n",
        "    w = q * w_stds\n",
        "    image = G.synthesis(w + G.mapping.w_avg, noise_mode='const')\n",
        "    embed = embed_image(image.add(1).div(2))\n",
        "    loss = 0\n",
        "    for (w, t) in prompts:\n",
        "      loss += w * spherical_dist_loss(embed, t).mean(0)\n",
        "    print(loss)\n",
        "    loss.backward()\n",
        "    opt.step()\n",
        "    loop.set_postfix(loss=loss.item(), q_magnitude=q.std().item())\n",
        "\n",
        "    q_ema = q_ema * smoothing + q * (1-smoothing)\n",
        "    latent = q_ema * w_stds + G.mapping.w_avg\n",
        "    image = G.synthesis(latent, noise_mode='const')\n",
        "\n",
        "    #if i % 10 == 0:\n",
        "    #  display(TF.to_pil_image(tf(image)[0]))\n",
        "    pil_image = TF.to_pil_image(image[0].add(1).div(2).clamp(0,1))\n",
        "    os.makedirs(output_path, exist_ok=True)\n",
        "    os.makedirs(\"/tmp/ffmpeg\", exist_ok=True)\n",
        "    if i % 5 == 0:\n",
        "      pil_image.save(f'{output_path}/output_{i:04}.jpg')\n",
        "      display(pil_image)\n",
        "    pil_image.save(f'/tmp/ffmpeg/output_{i:04}.jpg')\n",
        "  return latent\n",
        "\n",
        "\n",
        "\n",
        "\n",
        "try:\n",
        "  latent = run()\n",
        "  torch.save(latent, f\"{output_path}/latent.pt\")\n",
        "except KeyboardInterrupt:\n",
        "  pass"
      ]
    },
    {
      "cell_type": "markdown",
      "source": [
        "## Save out video"
      ],
      "metadata": {
        "id": "Y3Kpi48wW6GM"
      }
    },
    {
      "cell_type": "code",
      "execution_count": null,
      "metadata": {
        "id": "5MKlYJJfIb_5"
      },
      "outputs": [],
      "source": [
        "out_file=output_path+\"/video.mp4\"\n",
        "\n",
        "\n",
        "last_frame=!ls -t /tmp/ffmpeg/*.jpg | head -1\n",
        "last_frame = last_frame[0]\n",
        "\n",
        "# Copy last frame to start and duplicate at end so it sticks around longer\n",
        "!cp -v $last_frame /tmp/ffmpeg/0000.jpg\n",
        "\n",
        "encoding_options = \"-c:v libx264 -crf 20 -preset slow -vf format=yuv420p -c:a aac -movflags +faststart\"\n",
        "\n",
        "!ffmpeg  -r 10 -i /tmp/ffmpeg/%*.jpg -y {encoding_options} /tmp/vid_no_audio.mp4\n",
        "!ffmpeg -i /tmp/vid_no_audio.mp4 -f lavfi -i anullsrc -c:v copy -c:a aac -shortest -y \"$out_file\"\n",
        "\n",
        "print(\"Written\", out_file)\n",
        "!sleep 2\n",
        "!rm -r /tmp/ffmpeg"
      ]
    },
    {
      "cell_type": "code",
      "execution_count": null,
      "metadata": {
        "id": "qQaQSLSbPU_I"
      },
      "outputs": [],
      "source": [
        "import os.path\n",
        "if not os.path.exists(out_file):\n",
        "  raise Exception(\"Expected output file does not exist.\")"
      ]
    },
    {
      "cell_type": "markdown",
      "source": [
        "Open the file browser at left and download `video.mp4` to save it to your local machine."
      ],
      "metadata": {
        "id": "AybkKCqjXBBd"
      }
    },
    {
      "cell_type": "markdown",
      "source": [
        "# Activities\n",
        "- Play with the prompting parameters up top:\n",
        "  - speed\n",
        "  - steps\n",
        "  - learning rate\n",
        "- Try adding an image prompt. (this will be a starting image plus text prompt)\n",
        "  - adjust the weight between image prompt and text prompt\n",
        "- Try a different model. See a list here: [awesome-pretrained-stylegan3](https://github.com/justinpinkney/awesome-pretrained-stylegan3)\n",
        "- Download your final result together with a copy of this notebook."
      ],
      "metadata": {
        "id": "sbUN3nx_WTnA"
      }
    },
    {
      "cell_type": "code",
      "execution_count": null,
      "metadata": {
        "id": "so1yHofG7RxX"
      },
      "outputs": [],
      "source": [
        "#@title Licensed under the MIT License { display-mode: \"form\" }\n",
        "\n",
        "# Copyright (c) 2021 nshepperd; Katherine Crowson\n",
        "\n",
        "# Permission is hereby granted, free of charge, to any person obtaining a copy\n",
        "# of this software and associated documentation files (the \"Software\"), to deal\n",
        "# in the Software without restriction, including without limitation the rights\n",
        "# to use, copy, modify, merge, publish, distribute, sublicense, and/or sell\n",
        "# copies of the Software, and to permit persons to whom the Software is\n",
        "# furnished to do so, subject to the following conditions:\n",
        "\n",
        "# The above copyright notice and this permission notice shall be included in\n",
        "# all copies or substantial portions of the Software.\n",
        "\n",
        "# THE SOFTWARE IS PROVIDED \"AS IS\", WITHOUT WARRANTY OF ANY KIND, EXPRESS OR\n",
        "# IMPLIED, INCLUDING BUT NOT LIMITED TO THE WARRANTIES OF MERCHANTABILITY,\n",
        "# FITNESS FOR A PARTICULAR PURPOSE AND NONINFRINGEMENT. IN NO EVENT SHALL THE\n",
        "# AUTHORS OR COPYRIGHT HOLDERS BE LIABLE FOR ANY CLAIM, DAMAGES OR OTHER\n",
        "# LIABILITY, WHETHER IN AN ACTION OF CONTRACT, TORT OR OTHERWISE, ARISING FROM,\n",
        "# OUT OF OR IN CONNECTION WITH THE SOFTWARE OR THE USE OR OTHER DEALINGS IN\n",
        "# THE SOFTWARE."
      ]
    }
  ],
  "metadata": {
    "accelerator": "GPU",
    "colab": {
      "private_outputs": true,
      "provenance": [],
      "toc_visible": true,
      "include_colab_link": true
    },
    "kernelspec": {
      "display_name": "Python 3",
      "name": "python3"
    },
    "language_info": {
      "name": "python"
    }
  },
  "nbformat": 4,
  "nbformat_minor": 0
}