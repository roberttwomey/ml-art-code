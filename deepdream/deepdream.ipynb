{
  "cells": [
    {
      "cell_type": "markdown",
      "metadata": {
        "id": "view-in-github",
        "colab_type": "text"
      },
      "source": [
        "<a href=\"https://colab.research.google.com/github/roberttwomey/ml-art-code/blob/master/deepdream/deepdream.ipynb\" target=\"_parent\"><img src=\"https://colab.research.google.com/assets/colab-badge.svg\" alt=\"Open In Colab\"/></a>"
      ]
    },
    {
      "cell_type": "markdown",
      "metadata": {
        "id": "1SgrstLXNbG_"
      },
      "source": [
        "EMAR349 ML for the Arts - Twomey - [ml.roberttwomey.com](http://ml.roberttwomey.com)\n"
      ]
    },
    {
      "cell_type": "markdown",
      "metadata": {
        "id": "dCMqzy7BNbG9"
      },
      "source": [
        "# DeepDreaming with TensorFlow\n",
        "\n",
        "Adapted from the [TensorFlow example](https://colab.research.google.com/github/tensorflow/docs/blob/master/site/en/tutorials/generative/deepdream.ipynb#scrollTo=XPDKhwPcNbG7) (copyright TF authors 2019) for ML for the Arts."
      ]
    },
    {
      "cell_type": "markdown",
      "metadata": {
        "id": "XPDKhwPcNbG7"
      },
      "source": [
        "## Background\n",
        "This tutorial contains a minimal implementation of DeepDream, as described in this [blog post](https://ai.googleblog.com/2015/06/inceptionism-going-deeper-into-neural.html) by Alexander Mordvintsev.\n",
        "\n",
        "DeepDream is an experiment that visualizes the patterns learned by a neural network. Similar to when a child watches clouds and tries to interpret random shapes, DeepDream over-interprets and enhances the patterns it sees in an image.\n",
        "\n",
        "It does so by forwarding an image through the network, then calculating the gradient of the image with respect to the activations of a particular layer. The image is then modified to increase these activations, enhancing the patterns seen by the network, and resulting in a dream-like image. This process was dubbed \"Inceptionism\" (a reference to [InceptionNet](https://arxiv.org/pdf/1409.4842.pdf), and the [movie](https://en.wikipedia.org/wiki/Inception) Inception).\n",
        "\n",
        "Let's demonstrate how you can make a neural network \"dream\" and enhance the surreal patterns it sees in an image.\n",
        "\n",
        "![Dogception](https://www.tensorflow.org/tutorials/generative/images/dogception.png)"
      ]
    },
    {
      "cell_type": "code",
      "execution_count": null,
      "metadata": {
        "id": "Sc5Yq_Rgxreb"
      },
      "outputs": [],
      "source": [
        "import tensorflow as tf"
      ]
    },
    {
      "cell_type": "code",
      "execution_count": null,
      "metadata": {
        "id": "g_Qp173_NbG5"
      },
      "outputs": [],
      "source": [
        "import numpy as np\n",
        "# import matplotlib as mpl\n",
        "import IPython.display as display\n",
        "import PIL.Image"
      ]
    },
    {
      "cell_type": "markdown",
      "metadata": {
        "id": "F4RBFfIWNbG0"
      },
      "source": [
        "## Load the Inception Model"
      ]
    },
    {
      "cell_type": "markdown",
      "metadata": {
        "id": "cruNQmMDNbGz"
      },
      "source": [
        "Download and prepare a pre-trained image classification model. You will use [InceptionV3](https://keras.io/api/applications/inceptionv3/) which is similar to the model originally used in DeepDream. Note that any [pre-trained model](https://keras.io/api/applications/#available-models) will work, although you will have to adjust the layer names below if you change this."
      ]
    },
    {
      "cell_type": "code",
      "execution_count": null,
      "metadata": {
        "id": "GlLi48GKNbGy"
      },
      "outputs": [],
      "source": [
        "base_model = tf.keras.applications.InceptionV3(include_top=False, weights='imagenet')"
      ]
    },
    {
      "cell_type": "markdown",
      "source": [
        "To take a glimpse into the kinds of patterns that the network learned to recognize, we will try to generate images that maximize the sum of activations of particular channel of a particular convolutional layer of the neural network. The network we explore contains many convolutional layers, each of which outputs tens to hundreds of feature channels, so we have plenty of patterns to explore.\n",
        "\n",
        "Let's get an overview of the model:"
      ],
      "metadata": {
        "id": "ajzLw6z0t_5V"
      }
    },
    {
      "cell_type": "code",
      "source": [
        "base_model.summary()"
      ],
      "metadata": {
        "id": "RaZ2l36Xsou8"
      },
      "execution_count": null,
      "outputs": []
    },
    {
      "cell_type": "code",
      "source": [
        "layers = [op.name for op in base_model.layers[::-1] if isinstance(op, tf.keras.layers.Conv2D)]\n",
        "feature_nums = [base_model.get_layer(name).output.get_shape()[-1] for name in layers]\n",
        "\n",
        "print('Number of convolution layers', len(layers))\n",
        "print('Total number of feature channels:', sum(feature_nums))"
      ],
      "metadata": {
        "id": "yvM-8sx5sfVL"
      },
      "execution_count": null,
      "outputs": []
    },
    {
      "cell_type": "markdown",
      "metadata": {
        "id": "Bujb0jPNNbGx"
      },
      "source": [
        "## Prepare the feature extraction model\n",
        "\n",
        "The idea in DeepDream is to choose a layer (or layers) and maximize the \"loss\" in a way that the image increasingly \"excites\" the layers. The complexity of the features incorporated depends on layers chosen by you, i.e, lower layers produce strokes or simple patterns, while deeper layers give sophisticated features in images, or even whole objects."
      ]
    },
    {
      "cell_type": "markdown",
      "metadata": {
        "id": "qOVmDO4LNbGv"
      },
      "source": [
        "The InceptionV3 architecture is quite large (for a graph of the model architecture see TensorFlow's [research repo](https://github.com/tensorflow/models/tree/master/research/slim)). For DeepDream, the layers of  interest are those where the convolutions are concatenated. There are 11 of these layers in InceptionV3, named 'mixed0' though 'mixed10'. Using different layers will result in different dream-like images. Deeper layers respond to higher-level features (such as eyes and faces), while earlier layers respond to simpler features (such as edges, shapes, and textures). Feel free to experiment with the layers selected below, but keep in mind that deeper layers (those with a higher index) will take longer to train on since the gradient computation is deeper.\n",
        "\n",
        "Changing the list of layers here `mixed3`, etc., changes what combinations of features are enhanced in the resulting deep dream image."
      ]
    },
    {
      "cell_type": "code",
      "execution_count": null,
      "metadata": {
        "id": "08KB502ONbGt"
      },
      "outputs": [],
      "source": [
        "# Maximize the activations of these layers\n",
        "names = ['mixed3', 'mixed5']\n",
        "layers = [base_model.get_layer(name).output for name in names]\n",
        "\n",
        "# Create the feature extraction model\n",
        "dream_model = tf.keras.Model(inputs=base_model.input, outputs=layers)"
      ]
    },
    {
      "cell_type": "markdown",
      "metadata": {
        "id": "sb7u31B4NbGt"
      },
      "source": [
        "## Calculate loss\n",
        "\n",
        "The loss is the sum of the activations in the chosen layers. The loss is normalized at each layer so the contribution from larger layers does not outweigh smaller layers. Normally, loss is a quantity you wish to minimize via gradient descent. In DeepDream, you will maximize this loss via gradient ascent.\n",
        "\n",
        "This is the opposite of traditional machine learning, where you __minimize__ loss using gradient __descent__."
      ]
    },
    {
      "cell_type": "code",
      "execution_count": null,
      "metadata": {
        "id": "8MhfSweXXiuq"
      },
      "outputs": [],
      "source": [
        "def calc_loss(img, model):\n",
        "  # Pass forward the image through the model to retrieve the activations.\n",
        "  # Converts the image into a batch of size 1.\n",
        "  img_batch = tf.expand_dims(img, axis=0)\n",
        "  layer_activations = model(img_batch)\n",
        "  if len(layer_activations) == 1:\n",
        "    layer_activations = [layer_activations]\n",
        "\n",
        "  losses = []\n",
        "  for act in layer_activations:\n",
        "    loss = tf.math.reduce_mean(act)\n",
        "    losses.append(loss)\n",
        "\n",
        "  return  tf.reduce_sum(losses)"
      ]
    },
    {
      "cell_type": "markdown",
      "metadata": {
        "id": "k4TCNsAUO9kI"
      },
      "source": [
        "## Gradient ascent\n",
        "\n",
        "Once you have calculated the loss for the chosen layers, all that is left is to calculate the gradients with respect to the image, and add them to the original image.\n",
        "\n",
        "Adding the gradients to the image enhances the patterns seen by the network. At each step, you will have created an image that increasingly excites the activations of certain layers in the network.\n",
        "\n",
        "The method that does this, below, is wrapped in a `tf.function` for performance. It uses an `input_signature` to ensure that the function is not retraced for different image sizes or `steps`/`step_size` values. See the [Concrete functions guide](../../guide/function.ipynb) for details."
      ]
    },
    {
      "cell_type": "code",
      "execution_count": null,
      "metadata": {
        "id": "qRScWg_VNqvj"
      },
      "outputs": [],
      "source": [
        "class DeepDream(tf.Module):\n",
        "  def __init__(self, model):\n",
        "    self.model = model\n",
        "\n",
        "  @tf.function(\n",
        "      input_signature=(\n",
        "        tf.TensorSpec(shape=[None,None,3], dtype=tf.float32),\n",
        "        tf.TensorSpec(shape=[], dtype=tf.int32),\n",
        "        tf.TensorSpec(shape=[], dtype=tf.float32),)\n",
        "  )\n",
        "  def __call__(self, img, steps, step_size):\n",
        "      print(\"Tracing\")\n",
        "      loss = tf.constant(0.0)\n",
        "      for n in tf.range(steps):\n",
        "        with tf.GradientTape() as tape:\n",
        "          # This needs gradients relative to `img`\n",
        "          # `GradientTape` only watches `tf.Variable`s by default\n",
        "          tape.watch(img)\n",
        "          loss = calc_loss(img, self.model)\n",
        "\n",
        "        # Calculate the gradient of the loss with respect to the pixels of the input image.\n",
        "        gradients = tape.gradient(loss, img)\n",
        "\n",
        "        # Normalize the gradients.\n",
        "        gradients /= tf.math.reduce_std(gradients) + 1e-8\n",
        "\n",
        "        # In gradient ascent, the \"loss\" is maximized so that the input image increasingly \"excites\" the layers.\n",
        "        # You can update the image by directly adding the gradients (because they're the same shape!)\n",
        "        img = img + gradients*step_size\n",
        "        img = tf.clip_by_value(img, -1, 1)\n",
        "\n",
        "      return loss, img"
      ]
    },
    {
      "cell_type": "code",
      "execution_count": null,
      "metadata": {
        "id": "yB9pTqn6xfuK"
      },
      "outputs": [],
      "source": [
        "deepdream = DeepDream(dream_model)"
      ]
    },
    {
      "cell_type": "markdown",
      "metadata": {
        "id": "wgeIJg82NbG4"
      },
      "source": [
        "## Choose an image to dreamify"
      ]
    },
    {
      "cell_type": "markdown",
      "metadata": {
        "id": "yt6zam_9NbG4"
      },
      "source": [
        "For this tutorial, let's use an image of a [labrador](https://commons.wikimedia.org/wiki/File:YellowLabradorLooking_new.jpg)."
      ]
    },
    {
      "cell_type": "code",
      "execution_count": null,
      "metadata": {
        "id": "0lclzk9sNbG2"
      },
      "outputs": [],
      "source": [
        "url = 'https://storage.googleapis.com/download.tensorflow.org/example_images/YellowLabradorLooking_new.jpg'"
      ]
    },
    {
      "cell_type": "code",
      "execution_count": null,
      "metadata": {
        "id": "Y5BPgc8NNbG0"
      },
      "outputs": [],
      "source": [
        "# Download an image and read it into a NumPy array.\n",
        "def download(url, max_dim=None):\n",
        "  name = url.split('/')[-1]\n",
        "  image_path = tf.keras.utils.get_file(name, origin=url)\n",
        "  img = PIL.Image.open(image_path)\n",
        "  if max_dim:\n",
        "    img.thumbnail((max_dim, max_dim))\n",
        "  return np.array(img)\n",
        "\n",
        "def loadimage(image_path, max_dim=None):\n",
        "  img = PIL.Image.open(image_path)\n",
        "  if max_dim:\n",
        "    img.thumbnail((max_dim, max_dim))\n",
        "  return np.array(img)\n",
        "\n",
        "# Normalize an image\n",
        "def deprocess(img):\n",
        "  img = 255*(img + 1.0)/2.0\n",
        "  return tf.cast(img, tf.uint8)\n",
        "\n",
        "# Display an image\n",
        "def show(img):\n",
        "  display.display(PIL.Image.fromarray(np.array(img)))\n",
        "\n",
        "\n",
        "# Downsizing the image makes it easier to work with.\n",
        "original_img = download(url, max_dim=500)\n",
        "show(original_img)\n",
        "display.display(display.HTML('Image cc-by: <a \"href=https://commons.wikimedia.org/wiki/File:Felis_catus-cat_on_snow.jpg\">Von.grzanka</a>'))"
      ]
    },
    {
      "cell_type": "markdown",
      "source": [
        "Later on, you should upload your own image at right, using the file browser, and replace the image with your own.\n",
        "\n",
        "Change the filename below to the name of your file. Uncomment the code and run it."
      ],
      "metadata": {
        "id": "0Vi4qR0pmLk8"
      }
    },
    {
      "cell_type": "code",
      "source": [
        "# original_img = loadimage(\"myfile.jpg\") # change the filename here to match the file you uploaded."
      ],
      "metadata": {
        "id": "OZml9UCGmLCY"
      },
      "execution_count": null,
      "outputs": []
    },
    {
      "cell_type": "markdown",
      "metadata": {
        "id": "XLArRTVHZFAi"
      },
      "source": [
        "## Main Loop"
      ]
    },
    {
      "cell_type": "code",
      "execution_count": null,
      "metadata": {
        "id": "9vHEcy7dTysi"
      },
      "outputs": [],
      "source": [
        "def run_deep_dream_simple(img, steps=100, step_size=0.01):\n",
        "  # Convert from uint8 to the range expected by the model.\n",
        "  img = tf.keras.applications.inception_v3.preprocess_input(img)\n",
        "  img = tf.convert_to_tensor(img)\n",
        "  step_size = tf.convert_to_tensor(step_size)\n",
        "  steps_remaining = steps\n",
        "  step = 0\n",
        "  while steps_remaining:\n",
        "    if steps_remaining>100:\n",
        "      run_steps = tf.constant(100)\n",
        "    else:\n",
        "      run_steps = tf.constant(steps_remaining)\n",
        "    steps_remaining -= run_steps\n",
        "    step += run_steps\n",
        "\n",
        "    loss, img = deepdream(img, run_steps, tf.constant(step_size))\n",
        "\n",
        "    display.clear_output(wait=True)\n",
        "    show(deprocess(img))\n",
        "    print (\"Step {}, loss {}\".format(step, loss))\n",
        "\n",
        "\n",
        "  result = deprocess(img)\n",
        "  display.clear_output(wait=True)\n",
        "  show(result)\n",
        "\n",
        "  return result"
      ]
    },
    {
      "cell_type": "code",
      "execution_count": null,
      "metadata": {
        "id": "tEfd00rr0j8Z"
      },
      "outputs": [],
      "source": [
        "dream_img = run_deep_dream_simple(img=original_img,\n",
        "                                  steps=100, step_size=0.01)"
      ]
    },
    {
      "cell_type": "markdown",
      "metadata": {
        "id": "2PbfXEVFNbGp"
      },
      "source": [
        "## Taking it up an octave\n",
        "\n",
        "Pretty good, but there are a few issues with this first attempt:\n",
        "\n",
        "  1. The output is noisy (this could be addressed with a `tf.image.total_variation` loss).\n",
        "  1. The image is low resolution.\n",
        "  1. The patterns appear like they're all happening at the same granularity.\n",
        "  \n",
        "One approach that addresses all these problems is applying gradient ascent at different scales. This will allow patterns generated at smaller scales to be incorporated into patterns at higher scales and filled in with additional detail.\n",
        "\n",
        "To do this you can perform the previous gradient ascent approach, then increase the size of the image (which is referred to as an octave), and repeat this process for multiple octaves.\n"
      ]
    },
    {
      "cell_type": "code",
      "execution_count": null,
      "metadata": {
        "id": "0eGDSdatLT-8"
      },
      "outputs": [],
      "source": [
        "import time\n",
        "start = time.time()\n",
        "\n",
        "OCTAVE_SCALE = 1.30\n",
        "\n",
        "img = tf.constant(np.array(original_img))\n",
        "base_shape = tf.shape(img)[:-1]\n",
        "float_base_shape = tf.cast(base_shape, tf.float32)\n",
        "\n",
        "for n in range(-2, 3):\n",
        "  new_shape = tf.cast(float_base_shape*(OCTAVE_SCALE**n), tf.int32)\n",
        "\n",
        "  img = tf.image.resize(img, new_shape).numpy()\n",
        "\n",
        "  img = run_deep_dream_simple(img=img, steps=50, step_size=0.01)\n",
        "\n",
        "display.clear_output(wait=True)\n",
        "img = tf.image.resize(img, base_shape)\n",
        "img = tf.image.convert_image_dtype(img/255.0, dtype=tf.uint8)\n",
        "show(img)\n",
        "\n",
        "end = time.time()\n",
        "end-start"
      ]
    },
    {
      "cell_type": "markdown",
      "metadata": {
        "id": "s9xqyeuwLZFy"
      },
      "source": [
        "## Optional: Scaling up with tiles\n",
        "\n",
        "One thing to consider is that as the image increases in size, so will the time and memory necessary to perform the gradient calculation. The above octave implementation will not work on very large images, or many octaves.\n",
        "\n",
        "To avoid this issue you can split the image into tiles and compute the gradient for each tile.\n",
        "\n",
        "Applying random shifts to the image before each tiled computation prevents tile seams from appearing.\n",
        "\n",
        "Start by implementing the random shift:"
      ]
    },
    {
      "cell_type": "code",
      "execution_count": null,
      "metadata": {
        "id": "oGgLHk7o80ac"
      },
      "outputs": [],
      "source": [
        "def random_roll(img, maxroll):\n",
        "  # Randomly shift the image to avoid tiled boundaries.\n",
        "  shift = tf.random.uniform(shape=[2], minval=-maxroll, maxval=maxroll, dtype=tf.int32)\n",
        "  img_rolled = tf.roll(img, shift=shift, axis=[0,1])\n",
        "  return shift, img_rolled"
      ]
    },
    {
      "cell_type": "code",
      "execution_count": null,
      "metadata": {
        "id": "sKsiqWfA9H41"
      },
      "outputs": [],
      "source": [
        "shift, img_rolled = random_roll(np.array(original_img), 512)\n",
        "show(img_rolled)"
      ]
    },
    {
      "cell_type": "markdown",
      "metadata": {
        "id": "tGIjA3UhhAt8"
      },
      "source": [
        "Here is a tiled equivalent of the `deepdream` function defined earlier:"
      ]
    },
    {
      "cell_type": "code",
      "execution_count": null,
      "metadata": {
        "id": "x__TZ0uqNbGm"
      },
      "outputs": [],
      "source": [
        "class TiledGradients(tf.Module):\n",
        "  def __init__(self, model):\n",
        "    self.model = model\n",
        "\n",
        "  @tf.function(\n",
        "      input_signature=(\n",
        "        tf.TensorSpec(shape=[None,None,3], dtype=tf.float32),\n",
        "        tf.TensorSpec(shape=[2], dtype=tf.int32),\n",
        "        tf.TensorSpec(shape=[], dtype=tf.int32),)\n",
        "  )\n",
        "  def __call__(self, img, img_size, tile_size=512):\n",
        "    shift, img_rolled = random_roll(img, tile_size)\n",
        "\n",
        "    # Initialize the image gradients to zero.\n",
        "    gradients = tf.zeros_like(img_rolled)\n",
        "\n",
        "    # Skip the last tile, unless there's only one tile.\n",
        "    xs = tf.range(0, img_size[1], tile_size)[:-1]\n",
        "    if not tf.cast(len(xs), bool):\n",
        "      xs = tf.constant([0])\n",
        "    ys = tf.range(0, img_size[0], tile_size)[:-1]\n",
        "    if not tf.cast(len(ys), bool):\n",
        "      ys = tf.constant([0])\n",
        "\n",
        "    for x in xs:\n",
        "      for y in ys:\n",
        "        # Calculate the gradients for this tile.\n",
        "        with tf.GradientTape() as tape:\n",
        "          # This needs gradients relative to `img_rolled`.\n",
        "          # `GradientTape` only watches `tf.Variable`s by default.\n",
        "          tape.watch(img_rolled)\n",
        "\n",
        "          # Extract a tile out of the image.\n",
        "          img_tile = img_rolled[y:y+tile_size, x:x+tile_size]\n",
        "          loss = calc_loss(img_tile, self.model)\n",
        "\n",
        "        # Update the image gradients for this tile.\n",
        "        gradients = gradients + tape.gradient(loss, img_rolled)\n",
        "\n",
        "    # Undo the random shift applied to the image and its gradients.\n",
        "    gradients = tf.roll(gradients, shift=-shift, axis=[0,1])\n",
        "\n",
        "    # Normalize the gradients.\n",
        "    gradients /= tf.math.reduce_std(gradients) + 1e-8\n",
        "\n",
        "    return gradients"
      ]
    },
    {
      "cell_type": "code",
      "execution_count": null,
      "metadata": {
        "id": "Vcq4GubA2e5J"
      },
      "outputs": [],
      "source": [
        "get_tiled_gradients = TiledGradients(dream_model)"
      ]
    },
    {
      "cell_type": "markdown",
      "metadata": {
        "id": "hYnTTs_qiaND"
      },
      "source": [
        "Putting this together gives a scalable, octave-aware deepdream implementation:"
      ]
    },
    {
      "cell_type": "code",
      "execution_count": null,
      "metadata": {
        "id": "gA-15DM4NbGk"
      },
      "outputs": [],
      "source": [
        "def run_deep_dream_with_octaves(img, steps_per_octave=100, step_size=0.01,\n",
        "                                octaves=range(-2,3), octave_scale=1.3):\n",
        "  base_shape = tf.shape(img)\n",
        "  img = tf.keras.utils.img_to_array(img)\n",
        "  img = tf.keras.applications.inception_v3.preprocess_input(img)\n",
        "\n",
        "  initial_shape = img.shape[:-1]\n",
        "  img = tf.image.resize(img, initial_shape)\n",
        "  for octave in octaves:\n",
        "    # Scale the image based on the octave\n",
        "    new_size = tf.cast(tf.convert_to_tensor(base_shape[:-1]), tf.float32)*(octave_scale**octave)\n",
        "    new_size = tf.cast(new_size, tf.int32)\n",
        "    img = tf.image.resize(img, new_size)\n",
        "\n",
        "    for step in range(steps_per_octave):\n",
        "      gradients = get_tiled_gradients(img, new_size)\n",
        "      img = img + gradients*step_size\n",
        "      img = tf.clip_by_value(img, -1, 1)\n",
        "\n",
        "      if step % 10 == 0:\n",
        "        display.clear_output(wait=True)\n",
        "        show(deprocess(img))\n",
        "        print (\"Octave {}, Step {}\".format(octave, step))\n",
        "\n",
        "  result = deprocess(img)\n",
        "  return result"
      ]
    },
    {
      "cell_type": "code",
      "execution_count": null,
      "metadata": {
        "id": "T7PbRLV74RrU"
      },
      "outputs": [],
      "source": [
        "base_shape = tf.shape(img)[:-1]\n",
        "img = run_deep_dream_with_octaves(img=original_img, step_size=0.01)\n",
        "\n",
        "display.clear_output(wait=True)\n",
        "img = tf.image.resize(img, base_shape)\n",
        "img = tf.image.convert_image_dtype(img/255.0, dtype=tf.uint8)\n",
        "show(img)"
      ]
    },
    {
      "cell_type": "markdown",
      "metadata": {
        "id": "0Og0-qLwNbGg"
      },
      "source": [
        "Much better!"
      ]
    },
    {
      "cell_type": "markdown",
      "source": [
        "## Make a Video Zooming In\n"
      ],
      "metadata": {
        "id": "2kwcBmtCQ97T"
      }
    },
    {
      "cell_type": "code",
      "source": [
        "import scipy.ndimage as nd\n",
        "!mkdir frames"
      ],
      "metadata": {
        "id": "agGkxWY-PyIj"
      },
      "execution_count": null,
      "outputs": []
    },
    {
      "cell_type": "markdown",
      "source": [
        "Each frame below should take about ~10 seconds on a T4 GPU. This step will be done when it gets to 100 frames.\n",
        "\n",
        "Open the file browser on right, open the frames folder, and click the refresh button to see the new frame show up:\n",
        "\n",
        "![image.png](data:image/png;base64,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)"
      ],
      "metadata": {
        "id": "UuLh2rOaA2VT"
      }
    },
    {
      "cell_type": "code",
      "source": [
        "img = np.copy(original_img)\n",
        "img = np.copy(tf.image.resize(img, [600,600], preserve_aspect_ratio=True))\n",
        "base_shape = tf.shape(img)[:-1]\n",
        "\n",
        "frame_i = 0\n",
        "h, w = img.shape[:2]\n",
        "s = 0.03 # scale coefficient, sets how quickly we zoom in\n",
        "\n",
        "for i in range(100):\n",
        "    # frame = render_deepdream(tf.square(T('mixed4c')), frame)\n",
        "    # PIL.Image.fromarray(np.uint8(np.clip(frame/255.0, 0, 1)*255)).save(\"frames/%04d.jpg\"%frame_i)\n",
        "    OCTAVE_SCALE = 1.30\n",
        "\n",
        "    img = run_deep_dream_with_octaves(img=img, octaves=range(-2,1), step_size=0.01)\n",
        "    # img = run_deep_dream_simple(img=img, step_size=0.01)\n",
        "\n",
        "    img = tf.image.resize(img, base_shape)\n",
        "\n",
        "    display.clear_output(wait=True)\n",
        "    frame = tf.image.convert_image_dtype(img, dtype=tf.uint8)\n",
        "    print(\"frame \", frame_i)\n",
        "    show(frame)\n",
        "\n",
        "    # save to disk\n",
        "    # PIL.Image.fromarray(np.array(frame)).save(\"frames/%04d.jpg\"%frame_i)\n",
        "    PIL.Image.fromarray(np.uint8(np.clip(img/255.0, 0, 1)*255)).save(\"frames/%04d.jpg\"%frame_i)\n",
        "\n",
        "    # zoom in by scale\n",
        "    img = nd.affine_transform(img, [1-s,1-s,1], [h*s/2,w*s/2,0], order=1)\n",
        "\n",
        "    frame_i += 1\n",
        "display.clear_output(wait=True)\n",
        "\n",
        "print(\"completed {0} frames.\".format(frame_i))\n"
      ],
      "metadata": {
        "id": "dN2x25c-RHjb"
      },
      "execution_count": null,
      "outputs": []
    },
    {
      "cell_type": "markdown",
      "source": [
        "Run the following cell to make a video from the frames you have rendered.\n",
        "\n",
        "When you swap out your own picture, you need to change the resolution (`-s 600x535`) to match your image. Download one of the frames (right click Download at right), and then open it on your local computer to see what size it is."
      ],
      "metadata": {
        "id": "_ve6bZUVlwcy"
      }
    },
    {
      "cell_type": "code",
      "source": [
        "!ffmpeg -y -r 10 -i frames/%04d.jpg -s {h}x{w} deepdream.mp4"
      ],
      "metadata": {
        "id": "-DXtUu1oloAb"
      },
      "execution_count": null,
      "outputs": []
    },
    {
      "cell_type": "markdown",
      "source": [
        "Open the file browser at right. Right click on `deepdream.mp4` and click Download."
      ],
      "metadata": {
        "id": "H_rfOPFcBd9u"
      }
    },
    {
      "cell_type": "markdown",
      "source": [
        "## Activities\n",
        "- Experiment with your own source image (see [Choose an image to dreamify](#choose-an-image-to-dreamify) above) and re-run the visualization.\n",
        "- Experiment with the number of octaves and octave scale above and then re-run the visualization.\n",
        "- Change which InceptionV3 layers you use/optimize for (see [Prepare the feature extraction model](#prepare) above), and then re-run the visualization.\n",
        "- Generate an animation of your deep dream."
      ],
      "metadata": {
        "id": "pzoBzm2JxVr1"
      }
    }
  ],
  "metadata": {
    "accelerator": "GPU",
    "colab": {
      "provenance": [],
      "include_colab_link": true
    },
    "kernelspec": {
      "display_name": "Python 3",
      "name": "python3"
    }
  },
  "nbformat": 4,
  "nbformat_minor": 0
}