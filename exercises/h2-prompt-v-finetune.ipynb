{
  "cells": [
    {
      "cell_type": "markdown",
      "metadata": {
        "id": "view-in-github",
        "colab_type": "text"
      },
      "source": [
        "<a href=\"https://colab.research.google.com/github/roberttwomey/ml-art-code/blob/master/exercises/h2-prompt-v-finetune.ipynb\" target=\"_parent\"><img src=\"https://colab.research.google.com/assets/colab-badge.svg\" alt=\"Open In Colab\"/></a>"
      ]
    },
    {
      "cell_type": "markdown",
      "metadata": {
        "id": "H7LoMj4GA4n_"
      },
      "source": [
        "#  Prompting vs. Finetuning GPT-2\n",
        "\n",
        "The predominant (and encourged) way of interacting with Large Language Models ([LLMs](https://en.wikipedia.org/wiki/Large_language_model)) such as ChatGPT is through prompting. The idea with prompting an LLM is that the model already contains the flexibility to address a diverse array of requests, it is simply a matter of presenting it with a context that elicits the desired response.\n",
        "\n",
        "Prompting a model does not change anything about the model, it is simply a query on the pre-existing system. So to some extent you are working with what is \"given\", by OpenAI or whomever published your model of choice.\n",
        "\n",
        "Finetuning a model is a way of continuing its training, beyond what the researchers, corporation, etc. imbued in it, to specialize to a particular domain or textual corpus that is your choice.\n",
        "\n",
        "This exercise explores GPT-2 ([Generative Pretrained Transformer-2](https://openai.com/blog/better-language-models/)) from OpenAI from these perspectives of Prompting vs. Finetuning.\n",
        "\n",
        "Two parts:\n",
        "- 1. Prompting\n",
        "- 2. Finetuning\n",
        "\n",
        "Discussion"
      ]
    },
    {
      "cell_type": "markdown",
      "metadata": {
        "id": "j2lXOa49wl7d"
      },
      "source": [
        "# 0. Setup your GPT-2 Environment"
      ]
    },
    {
      "cell_type": "markdown",
      "metadata": {
        "id": "3--iFQpUwl7e"
      },
      "source": [
        "Run once to install the library"
      ]
    },
    {
      "cell_type": "code",
      "execution_count": null,
      "metadata": {
        "id": "As9SPgtjwl7e"
      },
      "outputs": [],
      "source": [
        "%pip install -q gpt-2-simple"
      ]
    },
    {
      "cell_type": "markdown",
      "metadata": {
        "id": "iZl6nl_Uwl7e"
      },
      "source": [
        "restart the kernel and run the imports"
      ]
    },
    {
      "cell_type": "code",
      "execution_count": null,
      "metadata": {
        "id": "KBkpRgBCBS2_"
      },
      "outputs": [],
      "source": [
        "import gpt_2_simple as gpt2\n",
        "import tensorflow as tf\n",
        "from datetime import datetime"
      ]
    },
    {
      "cell_type": "markdown",
      "metadata": {
        "id": "0wXB05bPDYxS"
      },
      "source": [
        "## Downloading GPT-2\n",
        "\n",
        "There are three released sizes of GPT-2:\n",
        "\n",
        "* `124M` (default): the \"small\" model, 500MB on disk.\n",
        "* `355M`: the \"medium\" model, 1.5GB on disk.\n",
        "* `774M`: the \"large\" model, cannot currently be finetuned with Colaboratory but can be used to generate text from the pretrained model (see later in Notebook)\n",
        "* `1558M`: the \"extra large\", true model. Will not work if a K80/P4 GPU is attached to the notebook. (like `774M`, it cannot be finetuned).\n",
        "\n",
        "Larger models have more knowledge, but take longer to finetune and longer to generate text. You can specify which base model to use by changing `model_name` in the cells below.\n",
        "\n",
        "The next cell downloads it from Google Cloud Storage and saves it in the the current working directory at `/models/<model_name>`."
      ]
    },
    {
      "cell_type": "code",
      "execution_count": null,
      "metadata": {
        "id": "P8wSlgXoDPCR"
      },
      "outputs": [],
      "source": [
        "model_name = \"124M\""
      ]
    },
    {
      "cell_type": "markdown",
      "metadata": {
        "id": "RoMFQcmwwl7f"
      },
      "source": [
        "run once to download the file"
      ]
    },
    {
      "cell_type": "code",
      "execution_count": null,
      "metadata": {
        "id": "thg7irbWwl7f"
      },
      "outputs": [],
      "source": [
        "gpt2.download_gpt2(model_name=model_name)"
      ]
    },
    {
      "cell_type": "markdown",
      "source": [
        "open the file browser at left, and see that you now have a folder called `models\\124M`"
      ],
      "metadata": {
        "id": "yKmSvFd7w_DR"
      }
    },
    {
      "cell_type": "markdown",
      "metadata": {
        "id": "QQAN3M6RT7Kj"
      },
      "source": [
        "# 1. Prompting\n",
        "\n",
        "GPT-2 is assuredly less-capable than ChatGPT in prompting, but the same basic principles underly the interaction: the idea of \"completion\". A prompt for GPT-2 is a string (prefix), which the language model then tries to continue/extend.  \n",
        "If you want to generate text from the pretrained model pass `model_name` to `gpt2.load_gpt2()` and `gpt2.generate()`. (This is currently the only way to generate text from the 774M or 1558M models with this notebook.)"
      ]
    },
    {
      "cell_type": "code",
      "execution_count": null,
      "metadata": {
        "id": "BAe4NpKNUj2C"
      },
      "outputs": [],
      "source": [
        "sess = gpt2.start_tf_sess()\n",
        "\n",
        "gpt2.load_gpt2(sess, model_name=model_name)"
      ]
    },
    {
      "cell_type": "markdown",
      "metadata": {
        "id": "fb5wGHJkwl7g"
      },
      "source": [
        "## Sample from the model\n",
        "The follow cell samples from gpt-2, using the provided prefix (seed) and other parameters. It starts the TF session and generates the samples.\n",
        "\n",
        "Try changing the parameters below to change the output:\n",
        "- `prefix` is the prompt. This will be the starting string/seed for your generation. Use your own text.\n",
        "- `temperature` sets the variability/randomness of the output. Range 0.0-1.0\n",
        "- `length` sets the lenght of output (in tokens). max is 1024.\n"
      ]
    },
    {
      "cell_type": "code",
      "execution_count": null,
      "metadata": {
        "id": "-xInIZKaU104"
      },
      "outputs": [],
      "source": [
        "gpt2.generate(sess,\n",
        "              model_name=model_name,\n",
        "              prefix=\"The secret of life is\",\n",
        "              length=100,\n",
        "              temperature=0.7,\n",
        "              top_p=0.9,\n",
        "              nsamples=5,\n",
        "              batch_size=5\n",
        "              )"
      ]
    },
    {
      "cell_type": "markdown",
      "metadata": {
        "id": "5BCf0PJxwl7g"
      },
      "source": [
        "## Activities\n",
        "- try varying the prefix.\n",
        "  - what length of prefix works best with the given model?\n",
        "  - how does the choice of prefix change the format/form of the output.\n",
        "- try varying the temperature.\n",
        "- try loading the different sized models (124M, 355M, 774M, 1558M) and generate text without changing the other parameters.\n",
        "  - Do you notice any qualitative differences in the output?"
      ]
    },
    {
      "cell_type": "markdown",
      "metadata": {
        "id": "uatZmJ2Pwl7g"
      },
      "source": [
        "# 2. Fine-Tuning GPT-2"
      ]
    },
    {
      "cell_type": "markdown",
      "metadata": {
        "id": "7pPdlyF0wl7g"
      },
      "source": [
        "If you have already generated with gpt2, you need to reset the tf graph and gpt2 session. Otherwise, we create a new one:"
      ]
    },
    {
      "cell_type": "code",
      "execution_count": null,
      "metadata": {
        "id": "aeXshJM-Cuaf"
      },
      "outputs": [],
      "source": [
        "#model_name = \"124M\" # same model as selected above\n",
        "\n",
        "tf.compat.v1.reset_default_graph()\n",
        "\n",
        "# check if sess exists (e.g. if we ran section 1 above)\n",
        "var_exists = 'sess' in locals() or 'sess' in globals()\n",
        "\n",
        "if not var_exists:\n",
        "    sess = gpt2.start_tf_sess()\n",
        "else:\n",
        "    sess = gpt2.reset_session(sess)"
      ]
    },
    {
      "cell_type": "markdown",
      "metadata": {
        "id": "HeeSKtNWUedE"
      },
      "source": [
        "## Upload a text file\n",
        "For this, we will use a text file you provide to finetune (continue training) GPT-2. You can use any plain text (.txt) file.\n",
        "\n",
        "Simply drag and dropy our text file into the file browser at left.\n",
        "\n",
        "Once you have uploaded your file, update the file name in the cell below, then run it."
      ]
    },
    {
      "cell_type": "code",
      "execution_count": null,
      "metadata": {
        "id": "6OFnPCLADfll"
      },
      "outputs": [],
      "source": [
        "file_name = \"script.txt\" # your file here"
      ]
    },
    {
      "cell_type": "markdown",
      "metadata": {
        "id": "LdpZQXknFNY3"
      },
      "source": [
        "## Run the finetuning\n",
        "\n",
        "The next cell will start the actual finetuning of GPT-2. It creates a persistent TensorFlow session which stores the training config, then runs the training for the specified number of `steps`. (to have the finetuning run indefinitely, set `steps = -1`)\n",
        "\n",
        "The model checkpoints will be saved in `/checkpoint/run1` by default. The checkpoints are saved every `save_every` steps (can be changed) and when the cell is stopped.\n",
        "\n",
        "The training might time out after 4ish hours; make sure you end training and save the results so you don't lose them. If your input text is smaller, training might proceed more quickly.\n",
        "\n",
        "Other optional-but-helpful parameters for `gpt2.finetune`:\n",
        "\n",
        "*  **`restore_from`**: Set to `fresh` to start training from the base GPT-2, or set to `latest` to restart training from an existing checkpoint.\n",
        "* **`sample_every`**: Number of steps to print example output\n",
        "* **`print_every`**: Number of steps to print training progress.\n",
        "* **`learning_rate`**:  Learning rate for the training. (default `1e-4`, can lower to `1e-5` if you have <1MB input data)\n",
        "*  **`run_name`**: subfolder within `checkpoint` to save the model. This is useful if you want to work with multiple models (will also need to specify  `run_name` when loading the model)\n",
        "* **`overwrite`**: Set to `True` if you want to continue finetuning an existing model (w/ `restore_from='latest'`) without creating duplicate copies."
      ]
    },
    {
      "cell_type": "code",
      "execution_count": null,
      "metadata": {
        "id": "RRrCG_sqwl7g"
      },
      "outputs": [],
      "source": [
        "gpt2.finetune(sess,\n",
        "              dataset=file_name,\n",
        "              model_name=model_name,\n",
        "              steps=200,\n",
        "              restore_from='fresh', # change to 'latest' to resume\n",
        "              run_name='run1',\n",
        "              print_every=10,\n",
        "              learning_rate=1e-5,\n",
        "              sample_every=100,\n",
        "              save_every=200\n",
        "              )"
      ]
    },
    {
      "cell_type": "markdown",
      "metadata": {
        "id": "IXSuTNERaw6K"
      },
      "source": [
        "## Notes on finetuning\n",
        "\n",
        "Keep an eye on the loss, and how quickly it is dropping. A too-rapid drop in loss could be a sign of overfitting, and a learning rate (lr) that is too high.\n",
        "\n",
        "As the model is training, it saves checkpoints every few hundred iterations. A checkpoint contains the trained model weights and some other information about the training session.\n",
        "\n",
        "You can download the checkpoint folder to save your work, see below. Training checkpoints are saved to `checkpoint/run1` (or whatever you chose for the run name above).\n",
        "\n",
        "You're done! Feel free to go to the **Generate Text From The Trained Model** section to generate text based on your retrained model."
      ]
    },
    {
      "cell_type": "markdown",
      "source": [
        "## Saving and Restoring Checkpoints"
      ],
      "metadata": {
        "id": "rVLTj2K05C9c"
      }
    },
    {
      "cell_type": "markdown",
      "source": [
        "### Compress your checkpoint and download it to your computer\n",
        "\n",
        "Run the code below. It will compress your checkpoint trained model waits and save a file called `checkpoint-run1.tar.gz`."
      ],
      "metadata": {
        "id": "DJ1CJdAtz_fF"
      }
    },
    {
      "cell_type": "code",
      "source": [
        "!tar -czvf \"/content/checkpoint-run1.tar.gz\" \"/content/checkpoint/run1\""
      ],
      "metadata": {
        "id": "MK3HMpyM0U8C"
      },
      "execution_count": null,
      "outputs": []
    },
    {
      "cell_type": "markdown",
      "source": [
        "Find `checkpoint-run1.tar.gz` in the file browser at left and download it. (Right click the file then **Download**)"
      ],
      "metadata": {
        "id": "F0IUE7011CS1"
      }
    },
    {
      "cell_type": "markdown",
      "metadata": {
        "id": "rX_2s026wl7g"
      },
      "source": [
        "## Optional: Finetune some more"
      ]
    },
    {
      "cell_type": "markdown",
      "metadata": {
        "id": "Qjqe-iwnwl7g"
      },
      "source": [
        "If you have already generated with gpt2, you need to reset the tf graph and gpt2 session. Otherwise, we create a new one:"
      ]
    },
    {
      "cell_type": "code",
      "execution_count": null,
      "metadata": {
        "id": "gunpu1_Mwl7g"
      },
      "outputs": [],
      "source": [
        "#model_name = \"124M\" # same model as selected above\n",
        "\n",
        "tf.compat.v1.reset_default_graph()\n",
        "\n",
        "# check if sess exists (e.g. if we ran section 1 above)\n",
        "var_exists = 'sess' in locals() or 'sess' in globals()\n",
        "\n",
        "if not var_exists:\n",
        "    sess = gpt2.start_tf_sess()\n",
        "else:\n",
        "    sess = gpt2.reset_session(sess)"
      ]
    },
    {
      "cell_type": "markdown",
      "metadata": {
        "id": "2DEzL_3Wwl7g"
      },
      "source": [
        "To fine-tune some more, run the following. Be sure to increase the number of steps (if it was `500` before, change to `1000` to train for 500 more. the number is cumulative)."
      ]
    },
    {
      "cell_type": "code",
      "execution_count": null,
      "metadata": {
        "id": "CrcWRTY6wl7g"
      },
      "outputs": [],
      "source": [
        "gpt2.finetune(sess,\n",
        "              dataset=file_name,\n",
        "              model_name=model_name,\n",
        "              steps=400,\n",
        "              restore_from='latest', # change to 'latest' to resume\n",
        "              run_name='run1',\n",
        "              print_every=10,\n",
        "              learning_rate=1e-5,\n",
        "              sample_every=100,\n",
        "              save_every=100\n",
        "              )"
      ]
    },
    {
      "cell_type": "markdown",
      "metadata": {
        "id": "ClJwpF_ACONp"
      },
      "source": [
        "# 3. Generate Text From The Finetuned Model\n",
        "\n",
        "After you've trained the model or loaded a pretrained model from checkpoint, you can now generate text. `generate` generates a single text from the loaded model."
      ]
    },
    {
      "cell_type": "code",
      "execution_count": null,
      "metadata": {
        "id": "4RNY6RBI9LmL"
      },
      "outputs": [],
      "source": [
        "# gpt2.generate(sess, run_name='run1') # no prefix, unconditional generation"
      ]
    },
    {
      "cell_type": "code",
      "execution_count": null,
      "metadata": {
        "id": "hqoBda1Mwl7g"
      },
      "outputs": [],
      "source": [
        "gpt2.generate(sess, run_name='run1', prefix=\"ham\")"
      ]
    },
    {
      "cell_type": "markdown",
      "metadata": {
        "id": "oF4-PqF0Fl7R"
      },
      "source": [
        "## Additional parameters for generation\n",
        "If you're creating an API based on your model and need to pass the generated text elsewhere, you can do `text = gpt2.generate(sess, return_as_list=True)[0]`\n",
        "\n",
        "You can also pass in a `prefix` to the generate function to force the text to start with a given character sequence and generate text from there (good if you add an indicator when the text starts).\n",
        "\n",
        "You can also generate multiple texts at a time by specifing `nsamples`. Unique to GPT-2, you can pass a `batch_size` to generate multiple samples in parallel, giving a massive speedup (in Colaboratory, set a maximum of 20 for `batch_size`).\n",
        "\n",
        "Other optional-but-helpful parameters for `gpt2.generate` and friends:\n",
        "\n",
        "*  **`length`**: Number of tokens to generate (default 1023, the maximum)\n",
        "* **`temperature`**: The higher the temperature, the crazier the text (default 0.7, recommended to keep between 0.7 and 1.0)\n",
        "* **`top_k`**: Limits the generated guesses to the top *k* guesses (default 0 which disables the behavior; if the generated output is super crazy, you may want to set `top_k=40`)\n",
        "* **`top_p`**: Nucleus sampling: limits the generated guesses to a cumulative probability. (gets good results on a dataset with `top_p=0.9`)\n",
        "* **`truncate`**: Truncates the input text until a given sequence, excluding that sequence (e.g. if `truncate='<|endoftext|>'`, the returned text will include everything before the first `<|endoftext|>`). It may be useful to combine this with a smaller `length` if the input texts are short.\n",
        "*  **`include_prefix`**: If using `truncate` and `include_prefix=False`, the specified `prefix` will not be included in the returned text."
      ]
    },
    {
      "cell_type": "code",
      "execution_count": null,
      "metadata": {
        "id": "8DKMc0fiej4N"
      },
      "outputs": [],
      "source": [
        "gpt2.generate(sess,\n",
        "              length=100,\n",
        "              temperature=0.7,\n",
        "              prefix=\"ham\",\n",
        "              nsamples=5,\n",
        "              batch_size=5\n",
        "              )"
      ]
    },
    {
      "cell_type": "markdown",
      "metadata": {
        "id": "zjjEN2Tafhl2"
      },
      "source": [
        "For bulk generation, you can generate a large amount of text to a file and sort out the samples locally on your computer. The next cell will generate a generated text file with a unique timestamp.\n",
        "\n",
        "You can rerun the cells as many times as you want for even more generated texts!"
      ]
    },
    {
      "cell_type": "code",
      "execution_count": null,
      "metadata": {
        "id": "Fa6p6arifSL0"
      },
      "outputs": [],
      "source": [
        "gen_file = 'gpt2_gentext_{:%Y%m%d_%H%M%S}.txt'.format(datetime.utcnow())\n",
        "\n",
        "gpt2.generate_to_file(sess,\n",
        "                      destination_path=gen_file,\n",
        "                      length=500,\n",
        "                      temperature=0.7,\n",
        "                      nsamples=100,\n",
        "                      batch_size=20\n",
        "                      )"
      ]
    },
    {
      "cell_type": "markdown",
      "metadata": {
        "id": "0-LRex8lfv1g"
      },
      "source": [
        "Download the file by hand in the browser at left."
      ]
    },
    {
      "cell_type": "markdown",
      "metadata": {
        "id": "2zgk9nlxwl7k"
      },
      "source": [
        "# 4. Load a Trained Model Checkpoint"
      ]
    },
    {
      "cell_type": "markdown",
      "source": [
        "## Restore a checkpoint\n",
        "\n",
        "To restore a checkpoint, or use one in a new session, drag the `tar.gz` file into the browser at left to upload it to the current colab session. Then run the command below to expand it."
      ],
      "metadata": {
        "id": "VO3T2IUT0KQI"
      }
    },
    {
      "cell_type": "code",
      "source": [
        "!tar -xzvf \"/content/checkpoint-run1.tar.gz\" -C \"/\""
      ],
      "metadata": {
        "id": "1OfzVsiR0OPF"
      },
      "execution_count": null,
      "outputs": []
    },
    {
      "cell_type": "markdown",
      "source": [
        "## In a new session, or you restarted your runtime\n",
        "\n",
        "If you are in a new session, or restarted your runtime, reimport the necessary libraries:"
      ],
      "metadata": {
        "id": "qGJB4x3Z66s3"
      }
    },
    {
      "cell_type": "code",
      "source": [
        "import gpt_2_simple as gpt2\n",
        "import tensorflow as tf\n",
        "from datetime import datetime"
      ],
      "metadata": {
        "id": "BvFIQh2m4Cyj"
      },
      "execution_count": null,
      "outputs": []
    },
    {
      "cell_type": "markdown",
      "source": [
        "Use `gpt.load_gpt2()` to load the checkpoint. this will load from `checkpoint/run1` by default"
      ],
      "metadata": {
        "id": "InLFNJtv4Ham"
      }
    },
    {
      "cell_type": "code",
      "source": [
        "sess = gpt2.start_tf_sess()\n",
        "gpt2.load_gpt2(sess)"
      ],
      "metadata": {
        "id": "scfRH5TX30CP"
      },
      "execution_count": null,
      "outputs": []
    },
    {
      "cell_type": "markdown",
      "metadata": {
        "id": "RTa6zf3e_9gV"
      },
      "source": [
        "## Continuing in the current runtime\n",
        "\n",
        "The next cell will allow you to load the retrained model checkpoint + metadata necessary to generate text.\n",
        "\n",
        "`gpt2.load_gpt2(sess)` will load from `checkpoint/run1` by default\n",
        "\n",
        "This will reset or start the tensorflow session as necessary."
      ]
    },
    {
      "cell_type": "code",
      "execution_count": null,
      "metadata": {
        "id": "-fxL77nvAMAX"
      },
      "outputs": [],
      "source": [
        "tf.compat.v1.reset_default_graph()\n",
        "\n",
        "if not sess:\n",
        "    sess = gpt2.start_tf_sess()\n",
        "else:\n",
        "    sess = gpt2.reset_session(sess)\n",
        "\n",
        "gpt2.load_gpt2(sess, run_name='run1')"
      ]
    },
    {
      "cell_type": "markdown",
      "source": [
        "## Generate!"
      ],
      "metadata": {
        "id": "kEZIl6HB7dEl"
      }
    },
    {
      "cell_type": "code",
      "source": [
        "gpt2.generate(sess,\n",
        "              length=100,\n",
        "              temperature=0.7,\n",
        "              prefix=\"raccoon\",\n",
        "              nsamples=5,\n",
        "              batch_size=5\n",
        "              )"
      ],
      "metadata": {
        "id": "cSejG2rJ6HAk"
      },
      "execution_count": null,
      "outputs": []
    },
    {
      "cell_type": "markdown",
      "metadata": {
        "id": "ig-KVgkCDCKD"
      },
      "source": [
        "# Etcetera\n",
        "\n",
        "If the notebook has errors (e.g. GPU Sync Fail), force-kill the Colaboratory virtual machine and restart it with the command below:"
      ]
    },
    {
      "cell_type": "code",
      "execution_count": null,
      "metadata": {
        "id": "rIHiVP53FnsX"
      },
      "outputs": [],
      "source": [
        "!kill -9 -1"
      ]
    },
    {
      "cell_type": "markdown",
      "metadata": {
        "id": "wmTXWNUygS5E"
      },
      "source": [
        "# License\n",
        "\n",
        "MIT License\n",
        "\n",
        "Copyright (c) 2019 Max Woolf\n",
        "\n",
        "Permission is hereby granted, free of charge, to any person obtaining a copy\n",
        "of this software and associated documentation files (the \"Software\"), to deal\n",
        "in the Software without restriction, including without limitation the rights\n",
        "to use, copy, modify, merge, publish, distribute, sublicense, and/or sell\n",
        "copies of the Software, and to permit persons to whom the Software is\n",
        "furnished to do so, subject to the following conditions:\n",
        "\n",
        "The above copyright notice and this permission notice shall be included in all\n",
        "copies or substantial portions of the Software.\n",
        "\n",
        "THE SOFTWARE IS PROVIDED \"AS IS\", WITHOUT WARRANTY OF ANY KIND, EXPRESS OR\n",
        "IMPLIED, INCLUDING BUT NOT LIMITED TO THE WARRANTIES OF MERCHANTABILITY,\n",
        "FITNESS FOR A PARTICULAR PURPOSE AND NONINFRINGEMENT. IN NO EVENT SHALL THE\n",
        "AUTHORS OR COPYRIGHT HOLDERS BE LIABLE FOR ANY CLAIM, DAMAGES OR OTHER\n",
        "LIABILITY, WHETHER IN AN ACTION OF CONTRACT, TORT OR OTHERWISE, ARISING FROM,\n",
        "OUT OF OR IN CONNECTION WITH THE SOFTWARE OR THE USE OR OTHER DEALINGS IN THE\n",
        "SOFTWARE."
      ]
    },
    {
      "cell_type": "markdown",
      "metadata": {
        "id": "nLN-TEHMwl7k"
      },
      "source": [
        "# Reference\n",
        "- Max's [blog post](https://minimaxir.com/2019/09/howto-gpt2/) for more information how to use this notebook!\n",
        "- Original repo: [gpt-2-simple](https://github.com/minimaxir/gpt-2-simple) by [Max Woolf](http://minimaxir.com).\n",
        "- Original [google colab](https://colab.research.google.com/drive/1VLG8e7YSEwypxU-noRNhsv5dW4NfTGce) from Max."
      ]
    }
  ],
  "metadata": {
    "accelerator": "GPU",
    "colab": {
      "provenance": [],
      "include_colab_link": true
    },
    "kernelspec": {
      "display_name": "TensorFlow GPU 2.6 (py39)",
      "language": "python",
      "name": "tensorflow-gpu-2.6-py39"
    },
    "language_info": {
      "codemirror_mode": {
        "name": "ipython",
        "version": 3
      },
      "file_extension": ".py",
      "mimetype": "text/x-python",
      "name": "python",
      "nbconvert_exporter": "python",
      "pygments_lexer": "ipython3",
      "version": "3.9.7"
    }
  },
  "nbformat": 4,
  "nbformat_minor": 0
}