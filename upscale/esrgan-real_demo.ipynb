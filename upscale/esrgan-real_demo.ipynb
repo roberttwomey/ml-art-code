{
 "cells": [
  {
   "cell_type": "markdown",
   "id": "b020874a-cd5c-460b-ba1a-69706d10f9ba",
   "metadata": {},
   "source": [
    "Real-ESRGAN Inference Demo\n",
    "\n",
    "Select kernel `torch-gpu-esrgan`."
   ]
  },
  {
   "cell_type": "code",
   "execution_count": null,
   "id": "0dcb12f9-6c82-4b4e-ba01-71e9f75b9932",
   "metadata": {},
   "outputs": [],
   "source": [
    "# # Clone Real-ESRGAN and enter the Real-ESRGAN\n",
    "!git clone https://github.com/xinntao/Real-ESRGAN.git\n",
    "%cd Real-ESRGAN\n",
    "!wget https://github.com/xinntao/Real-ESRGAN/releases/download/v0.1.0/RealESRGAN_x4plus.pth -P experiments/pretrained_models"
   ]
  },
  {
   "cell_type": "markdown",
   "id": "3139afc4-59da-47ea-9986-491028ee764e",
   "metadata": {},
   "source": [
    "# 2. Upload images to be processed\n",
    "Open the `Real-ESRGAN/inputs` folder in the file browser at right. Upload the files you wish to upscale into that folder. "
   ]
  },
  {
   "cell_type": "markdown",
   "id": "6f8ae7f2-3f03-4f9e-b197-a5dbeef59bb7",
   "metadata": {},
   "source": []
  },
  {
   "cell_type": "markdown",
   "id": "e9e06aa8-37d0-4002-a7dc-af5e3d938718",
   "metadata": {},
   "source": [
    "# 3. Inference\n"
   ]
  },
  {
   "cell_type": "code",
   "execution_count": null,
   "id": "a7f7fb62-002e-46d8-b50d-55377f22c365",
   "metadata": {},
   "outputs": [],
   "source": [
    "%cd Real-ESRGAN\n",
    "%pwd"
   ]
  },
  {
   "cell_type": "markdown",
   "id": "95fbacf3-0c59-4920-9b0b-b2134bfbe19f",
   "metadata": {},
   "source": [
    "Open a terminal with the quick launch and do the following: \n",
    "1. change directory to the Real-ESRGAN folder. copy path from the above cell above: `cd /home/twomeylab/rtwomey/ml-art-code/Real-ESRGAN`\n",
    "2. Load mamba. `module load mamba`\n",
    "3. Activate the torch-gpu-esrgan environment: `conda activate /work/emar349/shared/envs/torch-gpu-esrgan`\n",
    "4. Run the upscaling command to upscale your image. For example, for me, for a file called radio-barcelona-no48.jpg: `python inference_realesrgan.py -n RealESRGAN_x4plus -i inputs/radioplay/radio-barceona-no48.jpg --outscale 4.0 --tile 512`\n"
   ]
  }
 ],
 "metadata": {
  "kernelspec": {
   "display_name": "Python (torch-gpu-esrgan)",
   "language": "python",
   "name": "torch-gpu-esrgan"
  },
  "language_info": {
   "codemirror_mode": {
    "name": "ipython",
    "version": 3
   },
   "file_extension": ".py",
   "mimetype": "text/x-python",
   "name": "python",
   "nbconvert_exporter": "python",
   "pygments_lexer": "ipython3",
   "version": "3.9.10"
  }
 },
 "nbformat": 4,
 "nbformat_minor": 5
}
